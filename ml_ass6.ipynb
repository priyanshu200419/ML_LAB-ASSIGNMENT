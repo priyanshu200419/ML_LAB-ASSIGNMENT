{
 "cells": [
  {
   "cell_type": "code",
   "execution_count": 1,
   "id": "2716b3fd",
   "metadata": {},
   "outputs": [
    {
     "name": "stdout",
     "output_type": "stream",
     "text": [
      "Training Accuracy: 0.9500\n",
      "Test Accuracy: 1.0000\n",
      "Classification Report (Test):\n",
      "              precision    recall  f1-score   support\n",
      "\n",
      "      setosa       1.00      1.00      1.00        10\n",
      "  versicolor       1.00      1.00      1.00         9\n",
      "   virginica       1.00      1.00      1.00        11\n",
      "\n",
      "    accuracy                           1.00        30\n",
      "   macro avg       1.00      1.00      1.00        30\n",
      "weighted avg       1.00      1.00      1.00        30\n",
      "\n"
     ]
    }
   ],
   "source": [
    "import numpy as np\n",
    "import pandas as pd\n",
    "from sklearn.datasets import load_iris\n",
    "from sklearn.model_selection import train_test_split\n",
    "from sklearn.metrics import accuracy_score, classification_report\n",
    "\n",
    "iris = load_iris()\n",
    "X = iris['data']\n",
    "y = iris['target']\n",
    "class_labels = iris['target_names']\n",
    "\n",
    "X_train, X_test, y_train, y_test = train_test_split(X, y, test_size=0.2, random_state=42)\n",
    "\n",
    "def calculate_mean_variance(X, y):\n",
    "    classes = np.unique(y)\n",
    "    means = {}\n",
    "    variances = {}\n",
    "    \n",
    "    for cls in classes:\n",
    "        X_cls = X[y == cls]\n",
    "        means[cls] = np.mean(X_cls, axis=0)\n",
    "        variances[cls] = np.var(X_cls, axis=0)\n",
    "    \n",
    "    return means, variances\n",
    "\n",
    "means, variances = calculate_mean_variance(X_train, y_train)\n",
    "\n",
    "def gaussian_probability(x, mean, var):\n",
    "    eps = 1e-6  # To avoid division by zero\n",
    "    coeff = 1.0 / np.sqrt(2.0 * np.pi * var + eps)\n",
    "    exponent = np.exp(- ((x - mean) ** 2) / (2 * var + eps))\n",
    "    return coeff * exponent\n",
    "\n",
    "def calculate_class_probabilities(X, means, variances):\n",
    "    class_probs = {}\n",
    "    for cls in means:\n",
    "        class_probs[cls] = np.sum(np.log(gaussian_probability(X, means[cls], variances[cls])), axis=1)\n",
    "    \n",
    "    return class_probs\n",
    "\n",
    "def predict(X, means, variances):\n",
    "    class_probs = calculate_class_probabilities(X, means, variances)\n",
    "    predictions = []\n",
    "    \n",
    "    for i in range(X.shape[0]):\n",
    "        class_prob = {cls: class_probs[cls][i] for cls in class_probs}\n",
    "        predictions.append(max(class_prob, key=class_prob.get))\n",
    "    \n",
    "    return np.array(predictions)\n",
    "\n",
    "y_train_pred = predict(X_train, means, variances)\n",
    "y_test_pred = predict(X_test, means, variances)\n",
    "\n",
    "train_accuracy = accuracy_score(y_train, y_train_pred)\n",
    "test_accuracy = accuracy_score(y_test, y_test_pred)\n",
    "\n",
    "print(f'Training Accuracy: {train_accuracy:.4f}')\n",
    "print(f'Test Accuracy: {test_accuracy:.4f}')\n",
    "print('Classification Report (Test):')\n",
    "print(classification_report(y_test, y_test_pred, target_names=class_labels))\n"
   ]
  },
  {
   "cell_type": "code",
   "execution_count": 2,
   "id": "32bda333",
   "metadata": {},
   "outputs": [
    {
     "name": "stdout",
     "output_type": "stream",
     "text": [
      "Best K value: 3\n",
      "Best cross-validated accuracy: 0.9583\n",
      "Test set accuracy with best K: 1.0000\n"
     ]
    }
   ],
   "source": [
    "import numpy as np\n",
    "import pandas as pd\n",
    "from sklearn.datasets import load_iris\n",
    "from sklearn.model_selection import train_test_split, GridSearchCV\n",
    "from sklearn.neighbors import KNeighborsClassifier\n",
    "from sklearn.metrics import accuracy_score\n",
    "\n",
    "iris = load_iris()\n",
    "X = iris['data']\n",
    "y = iris['target']\n",
    "\n",
    "X_train, X_test, y_train, y_test = train_test_split(X, y, test_size=0.2, random_state=42)\n",
    "\n",
    "knn = KNeighborsClassifier()\n",
    "\n",
    "param_grid = {'n_neighbors': np.arange(1, 31)}\n",
    "\n",
    "grid_search = GridSearchCV(knn, param_grid, cv=5, scoring='accuracy')\n",
    "\n",
    "grid_search.fit(X_train, y_train)\n",
    "\n",
    "print(f'Best K value: {grid_search.best_params_[\"n_neighbors\"]}')\n",
    "print(f'Best cross-validated accuracy: {grid_search.best_score_:.4f}')\n",
    "\n",
    "best_knn = grid_search.best_estimator_\n",
    "y_test_pred = best_knn.predict(X_test)\n",
    "\n",
    "test_accuracy = accuracy_score(y_test, y_test_pred)\n",
    "print(f'Test set accuracy with best K: {test_accuracy:.4f}')\n"
   ]
  },
  {
   "cell_type": "code",
   "execution_count": null,
   "id": "89013a48",
   "metadata": {},
   "outputs": [],
   "source": []
  }
 ],
 "metadata": {
  "kernelspec": {
   "display_name": "Python 3 (ipykernel)",
   "language": "python",
   "name": "python3"
  },
  "language_info": {
   "codemirror_mode": {
    "name": "ipython",
    "version": 3
   },
   "file_extension": ".py",
   "mimetype": "text/x-python",
   "name": "python",
   "nbconvert_exporter": "python",
   "pygments_lexer": "ipython3",
   "version": "3.11.5"
  }
 },
 "nbformat": 4,
 "nbformat_minor": 5
}
